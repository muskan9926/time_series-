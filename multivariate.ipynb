{
 "cells": [
  {
   "cell_type": "code",
   "execution_count": 35,
   "id": "f8e22d7f",
   "metadata": {},
   "outputs": [],
   "source": [
    "\n",
    "import numpy as np\n",
    "from tensorflow.keras.models import Sequential\n",
    "from tensorflow.keras.layers import LSTM\n",
    "from tensorflow.keras.layers import Dense, Dropout,RepeatVector,TimeDistributed\n",
    "import pandas as pd\n",
    "from matplotlib import pyplot as plt\n",
    "from sklearn.preprocessing import StandardScaler\n",
    "import seaborn as sns"
   ]
  },
  {
   "cell_type": "code",
   "execution_count": 36,
   "id": "b0eb7fa2",
   "metadata": {},
   "outputs": [
    {
     "name": "stdout",
     "output_type": "stream",
     "text": [
      "         Date        Open        High         Low       Close   Adj Close  \\\n",
      "0  2021-09-07  104.500000  104.940002  102.309998  103.290001  102.904030   \n",
      "1  2021-09-08  102.949997  104.730003  100.419998  102.580002  102.196693   \n",
      "2  2021-09-09  102.360001  104.919998  102.110001  103.290001  102.904030   \n",
      "3  2021-09-10  103.290001  103.949997  101.779999  102.000000  101.618858   \n",
      "4  2021-09-13  102.650002  104.860001  102.019997  104.459999  104.069664   \n",
      "\n",
      "     Volume  \n",
      "0  10989500  \n",
      "1  12001300  \n",
      "2   9386500  \n",
      "3   9563600  \n",
      "4  12484200  \n"
     ]
    }
   ],
   "source": [
    "#Read the csv file\n",
    "df = pd.read_csv('GE.csv')\n",
    "print(df.head()) #7 columns, including the Date. "
   ]
  },
  {
   "cell_type": "code",
   "execution_count": 37,
   "id": "74ee36dd",
   "metadata": {},
   "outputs": [
    {
     "name": "stdout",
     "output_type": "stream",
     "text": [
      "236   2022-08-15\n",
      "237   2022-08-16\n",
      "238   2022-08-17\n",
      "239   2022-08-18\n",
      "240   2022-08-19\n",
      "241   2022-08-22\n",
      "242   2022-08-23\n",
      "243   2022-08-24\n",
      "244   2022-08-25\n",
      "245   2022-08-26\n",
      "246   2022-08-29\n",
      "247   2022-08-30\n",
      "248   2022-08-31\n",
      "249   2022-09-01\n",
      "250   2022-09-02\n",
      "Name: Date, dtype: datetime64[ns]\n"
     ]
    }
   ],
   "source": [
    "#Separate dates for future plotting as this is not our one of the feature we are just using to plot our daat\n",
    "train_dates = pd.to_datetime(df['Date'])\n",
    "print(train_dates.tail(15)) #Check last few dates."
   ]
  },
  {
   "cell_type": "code",
   "execution_count": 38,
   "id": "7a4c90d7",
   "metadata": {},
   "outputs": [
    {
     "name": "stdout",
     "output_type": "stream",
     "text": [
      "['Open', 'High', 'Low', 'Close', 'Adj Close']\n"
     ]
    }
   ],
   "source": [
    "#Variables for training which we want to use\n",
    "cols = list(df)[1:6]\n",
    "#Date and volume columns are not used in training. \n",
    "print(cols) #['Open', 'High', 'Low', 'Close', 'Adj Close']"
   ]
  },
  {
   "cell_type": "code",
   "execution_count": 39,
   "id": "e411e1b9",
   "metadata": {},
   "outputs": [],
   "source": [
    "\n",
    "#New dataframe with only training data - 5 columns because when we do normalisation then we dont loose our normalisation\n",
    "df_for_training = df[cols].astype(float)"
   ]
  },
  {
   "cell_type": "code",
   "execution_count": 40,
   "id": "6a4d82b8",
   "metadata": {},
   "outputs": [
    {
     "data": {
      "text/html": [
       "<div>\n",
       "<style scoped>\n",
       "    .dataframe tbody tr th:only-of-type {\n",
       "        vertical-align: middle;\n",
       "    }\n",
       "\n",
       "    .dataframe tbody tr th {\n",
       "        vertical-align: top;\n",
       "    }\n",
       "\n",
       "    .dataframe thead th {\n",
       "        text-align: right;\n",
       "    }\n",
       "</style>\n",
       "<table border=\"1\" class=\"dataframe\">\n",
       "  <thead>\n",
       "    <tr style=\"text-align: right;\">\n",
       "      <th></th>\n",
       "      <th>Open</th>\n",
       "      <th>High</th>\n",
       "      <th>Low</th>\n",
       "      <th>Close</th>\n",
       "      <th>Adj Close</th>\n",
       "    </tr>\n",
       "  </thead>\n",
       "  <tbody>\n",
       "    <tr>\n",
       "      <th>0</th>\n",
       "      <td>104.500000</td>\n",
       "      <td>104.940002</td>\n",
       "      <td>102.309998</td>\n",
       "      <td>103.290001</td>\n",
       "      <td>102.904030</td>\n",
       "    </tr>\n",
       "    <tr>\n",
       "      <th>1</th>\n",
       "      <td>102.949997</td>\n",
       "      <td>104.730003</td>\n",
       "      <td>100.419998</td>\n",
       "      <td>102.580002</td>\n",
       "      <td>102.196693</td>\n",
       "    </tr>\n",
       "    <tr>\n",
       "      <th>2</th>\n",
       "      <td>102.360001</td>\n",
       "      <td>104.919998</td>\n",
       "      <td>102.110001</td>\n",
       "      <td>103.290001</td>\n",
       "      <td>102.904030</td>\n",
       "    </tr>\n",
       "    <tr>\n",
       "      <th>3</th>\n",
       "      <td>103.290001</td>\n",
       "      <td>103.949997</td>\n",
       "      <td>101.779999</td>\n",
       "      <td>102.000000</td>\n",
       "      <td>101.618858</td>\n",
       "    </tr>\n",
       "    <tr>\n",
       "      <th>4</th>\n",
       "      <td>102.650002</td>\n",
       "      <td>104.860001</td>\n",
       "      <td>102.019997</td>\n",
       "      <td>104.459999</td>\n",
       "      <td>104.069664</td>\n",
       "    </tr>\n",
       "    <tr>\n",
       "      <th>...</th>\n",
       "      <td>...</td>\n",
       "      <td>...</td>\n",
       "      <td>...</td>\n",
       "      <td>...</td>\n",
       "      <td>...</td>\n",
       "    </tr>\n",
       "    <tr>\n",
       "      <th>246</th>\n",
       "      <td>74.839996</td>\n",
       "      <td>76.839996</td>\n",
       "      <td>74.279999</td>\n",
       "      <td>76.050003</td>\n",
       "      <td>76.050003</td>\n",
       "    </tr>\n",
       "    <tr>\n",
       "      <th>247</th>\n",
       "      <td>76.760002</td>\n",
       "      <td>77.180000</td>\n",
       "      <td>74.330002</td>\n",
       "      <td>75.129997</td>\n",
       "      <td>75.129997</td>\n",
       "    </tr>\n",
       "    <tr>\n",
       "      <th>248</th>\n",
       "      <td>75.410004</td>\n",
       "      <td>75.790001</td>\n",
       "      <td>73.360001</td>\n",
       "      <td>73.440002</td>\n",
       "      <td>73.440002</td>\n",
       "    </tr>\n",
       "    <tr>\n",
       "      <th>249</th>\n",
       "      <td>73.250000</td>\n",
       "      <td>73.250000</td>\n",
       "      <td>71.430000</td>\n",
       "      <td>73.080002</td>\n",
       "      <td>73.080002</td>\n",
       "    </tr>\n",
       "    <tr>\n",
       "      <th>250</th>\n",
       "      <td>73.790001</td>\n",
       "      <td>74.360001</td>\n",
       "      <td>72.110001</td>\n",
       "      <td>72.430000</td>\n",
       "      <td>72.430000</td>\n",
       "    </tr>\n",
       "  </tbody>\n",
       "</table>\n",
       "<p>251 rows × 5 columns</p>\n",
       "</div>"
      ],
      "text/plain": [
       "           Open        High         Low       Close   Adj Close\n",
       "0    104.500000  104.940002  102.309998  103.290001  102.904030\n",
       "1    102.949997  104.730003  100.419998  102.580002  102.196693\n",
       "2    102.360001  104.919998  102.110001  103.290001  102.904030\n",
       "3    103.290001  103.949997  101.779999  102.000000  101.618858\n",
       "4    102.650002  104.860001  102.019997  104.459999  104.069664\n",
       "..          ...         ...         ...         ...         ...\n",
       "246   74.839996   76.839996   74.279999   76.050003   76.050003\n",
       "247   76.760002   77.180000   74.330002   75.129997   75.129997\n",
       "248   75.410004   75.790001   73.360001   73.440002   73.440002\n",
       "249   73.250000   73.250000   71.430000   73.080002   73.080002\n",
       "250   73.790001   74.360001   72.110001   72.430000   72.430000\n",
       "\n",
       "[251 rows x 5 columns]"
      ]
     },
     "execution_count": 40,
     "metadata": {},
     "output_type": "execute_result"
    }
   ],
   "source": [
    "df_for_training"
   ]
  },
  {
   "cell_type": "code",
   "execution_count": 56,
   "id": "2f168e60",
   "metadata": {},
   "outputs": [],
   "source": [
    "scaler = StandardScaler()\n",
    "scaler = scaler.fit(df_for_training)\n",
    "df_for_training_scaled = scaler.transform(df_for_training)"
   ]
  },
  {
   "cell_type": "code",
   "execution_count": 57,
   "id": "06001740",
   "metadata": {},
   "outputs": [],
   "source": [
    "#Empty lists to be populated using formatted training data\n",
    "trainX = []\n",
    "trainY = []\n",
    "\n",
    "n_future = 1   # Number of days we want to look into the future based on the past days.\n",
    "n_past = 14  # Number of past days we want to use to predict the future.\n"
   ]
  },
  {
   "cell_type": "code",
   "execution_count": 58,
   "id": "6ef62915",
   "metadata": {},
   "outputs": [],
   "source": [
    "#Reformat input data into a shape: (n_samples x timesteps x n_features)\n",
    "#In my example, my df_for_training_scaled has a shape (12823, 5)\n",
    "#12823 refers to the number of data points and 5 refers to the columns (multi-variables).\n",
    "for i in range(n_past, len(df_for_training_scaled) - n_future +1):\n",
    "    trainX.append(df_for_training_scaled[i - n_past:i, 0:df_for_training.shape[1]])\n",
    "    trainY.append(df_for_training_scaled[i + n_future - 1:i + n_future, 0])"
   ]
  },
  {
   "cell_type": "code",
   "execution_count": 59,
   "id": "ca40fe9b",
   "metadata": {},
   "outputs": [
    {
     "name": "stdout",
     "output_type": "stream",
     "text": [
      "trainX shape == (237, 14, 5).\n",
      "trainY shape == (237, 1).\n"
     ]
    }
   ],
   "source": [
    "\n",
    "trainX, trainY = np.array(trainX), np.array(trainY)\n",
    "\n",
    "print('trainX shape == {}.'.format(trainX.shape))\n",
    "print('trainY shape == {}.'.format(trainY.shape))"
   ]
  },
  {
   "cell_type": "code",
   "execution_count": 60,
   "id": "7a58064d",
   "metadata": {},
   "outputs": [
    {
     "name": "stdout",
     "output_type": "stream",
     "text": [
      "Model: \"sequential_6\"\n",
      "_________________________________________________________________\n",
      "Layer (type)                 Output Shape              Param #   \n",
      "=================================================================\n",
      "lstm_9 (LSTM)                (None, 14, 64)            17920     \n",
      "_________________________________________________________________\n",
      "lstm_10 (LSTM)               (None, 32)                12416     \n",
      "_________________________________________________________________\n",
      "dropout_8 (Dropout)          (None, 32)                0         \n",
      "_________________________________________________________________\n",
      "dense_3 (Dense)              (None, 1)                 33        \n",
      "=================================================================\n",
      "Total params: 30,369\n",
      "Trainable params: 30,369\n",
      "Non-trainable params: 0\n",
      "_________________________________________________________________\n"
     ]
    }
   ],
   "source": [
    "# define the Autoencoder model\n",
    "\n",
    "model = Sequential()\n",
    "model.add(LSTM(64, activation='relu', input_shape=(trainX.shape[1], trainX.shape[2]), return_sequences=True))\n",
    "model.add(LSTM(32, activation='relu', return_sequences=False))\n",
    "model.add(Dropout(0.2))\n",
    "model.add(Dense(trainY.shape[1]))\n",
    "\n",
    "model.compile(optimizer='adam', loss='mse')\n",
    "model.summary()\n"
   ]
  },
  {
   "cell_type": "code",
   "execution_count": 61,
   "id": "4e94f49d",
   "metadata": {},
   "outputs": [
    {
     "name": "stdout",
     "output_type": "stream",
     "text": [
      "Train on 213 samples, validate on 24 samples\n",
      "Epoch 1/5\n",
      "213/213 [==============================] - 3s 15ms/sample - loss: 0.5141 - val_loss: 0.1617\n",
      "Epoch 2/5\n",
      "213/213 [==============================] - 1s 3ms/sample - loss: 0.2110 - val_loss: 0.1876\n",
      "Epoch 3/5\n",
      "213/213 [==============================] - 1s 3ms/sample - loss: 0.1756 - val_loss: 0.0583\n",
      "Epoch 4/5\n",
      "213/213 [==============================] - 1s 3ms/sample - loss: 0.1156 - val_loss: 0.0392\n",
      "Epoch 5/5\n",
      "213/213 [==============================] - 1s 3ms/sample - loss: 0.0869 - val_loss: 0.0386\n"
     ]
    }
   ],
   "source": [
    "# fit the model\n",
    "history = model.fit(trainX, trainY, epochs=5, batch_size=16, validation_split=0.1, verbose=1)\n"
   ]
  },
  {
   "cell_type": "code",
   "execution_count": 62,
   "id": "7b04ded9",
   "metadata": {},
   "outputs": [
    {
     "data": {
      "text/plain": [
       "<matplotlib.legend.Legend at 0x7fb5e1988ed0>"
      ]
     },
     "execution_count": 62,
     "metadata": {},
     "output_type": "execute_result"
    },
    {
     "data": {
      "image/png": "[encoded data removed]",
      "text/plain": [
       "<Figure size 640x480 with 1 Axes>"
      ]
     },
     "metadata": {},
     "output_type": "display_data"
    }
   ],
   "source": [
    "\n",
    "plt.plot(history.history['loss'], label='Training loss')\n",
    "plt.plot(history.history['val_loss'], label='Validation loss')\n",
    "plt.legend()\n"
   ]
  },
  {
   "cell_type": "code",
   "execution_count": 67,
   "id": "d9938fd0",
   "metadata": {},
   "outputs": [],
   "source": [
    "#Libraries that will help us extract only business days in the US.\n",
    "#Otherwise our dates would be wrong when we look back (or forward).  \n",
    "from pandas.tseries.holiday import USFederalHolidayCalendar\n",
    "from pandas.tseries.offsets import CustomBusinessDay\n",
    "us_bd = CustomBusinessDay(calendar=USFederalHolidayCalendar())"
   ]
  },
  {
   "cell_type": "code",
   "execution_count": 68,
   "id": "31bc472f",
   "metadata": {},
   "outputs": [
    {
     "name": "stdout",
     "output_type": "stream",
     "text": [
      "[Timestamp('2022-08-12 00:00:00', freq='C'), Timestamp('2022-08-15 00:00:00', freq='C'), Timestamp('2022-08-16 00:00:00', freq='C'), Timestamp('2022-08-17 00:00:00', freq='C'), Timestamp('2022-08-18 00:00:00', freq='C'), Timestamp('2022-08-19 00:00:00', freq='C'), Timestamp('2022-08-22 00:00:00', freq='C'), Timestamp('2022-08-23 00:00:00', freq='C'), Timestamp('2022-08-24 00:00:00', freq='C'), Timestamp('2022-08-25 00:00:00', freq='C'), Timestamp('2022-08-26 00:00:00', freq='C'), Timestamp('2022-08-29 00:00:00', freq='C'), Timestamp('2022-08-30 00:00:00', freq='C'), Timestamp('2022-08-31 00:00:00', freq='C'), Timestamp('2022-09-01 00:00:00', freq='C')]\n"
     ]
    }
   ],
   "source": [
    "n_past = 16\n",
    "n_days_for_prediction=15  #let us predict past 15 days\n",
    "\n",
    "predict_period_dates = pd.date_range(list(train_dates)[-n_past], periods=n_days_for_prediction, freq=us_bd).tolist()\n",
    "print(predict_period_dates)"
   ]
  },
  {
   "cell_type": "code",
   "execution_count": 69,
   "id": "441edcf7",
   "metadata": {},
   "outputs": [],
   "source": [
    "#Make prediction\n",
    "prediction = model.predict(trainX[-n_days_for_prediction:]) #shape = (n, 1) where n is the n_days_for_prediction"
   ]
  },
  {
   "cell_type": "code",
   "execution_count": 71,
   "id": "c0973954",
   "metadata": {},
   "outputs": [
    {
     "data": {
      "text/plain": [
       "(15, 1)"
      ]
     },
     "execution_count": 71,
     "metadata": {},
     "output_type": "execute_result"
    }
   ],
   "source": [
    "prediction.shape\n",
    "# these are our scaled values now we waant our stock value back"
   ]
  },
  {
   "cell_type": "code",
   "execution_count": 72,
   "id": "f15b7377",
   "metadata": {},
   "outputs": [],
   "source": [
    "#Perform inverse transformation to rescale back to original range\n",
    "#Since we used 5 variables for transform, the inverse expects same dimensions\n",
    "#Therefore, let us copy our values 5 times and discard them after inverse transform\n",
    "prediction_copies = np.repeat(prediction, df_for_training.shape[1], axis=-1)\n",
    "y_pred_future = scaler.inverse_transform(prediction_copies)[:,0]\n",
    "# basically df_for_trainnig means :-5 as here are just 1 feature but when we standardised it we had 5 features so we are copying\n"
   ]
  },
  {
   "cell_type": "code",
   "execution_count": 73,
   "id": "26d7732b",
   "metadata": {},
   "outputs": [
    {
     "data": {
      "text/plain": [
       "array([76.089264, 76.74185 , 77.39806 , 77.91508 , 78.31858 , 78.51858 ,\n",
       "       78.413445, 78.23709 , 78.09144 , 78.081375, 77.97138 , 77.79754 ,\n",
       "       77.57594 , 77.21041 , 76.696815], dtype=float32)"
      ]
     },
     "execution_count": 73,
     "metadata": {},
     "output_type": "execute_result"
    }
   ],
   "source": [
    "y_pred_future\n",
    "# these are our actual predicted stock values"
   ]
  },
  {
   "cell_type": "code",
   "execution_count": 74,
   "id": "7a1b4d98",
   "metadata": {},
   "outputs": [],
   "source": [
    "\n",
    "# Convert timestamp to date\n",
    "forecast_dates = []\n",
    "for time_i in predict_period_dates:\n",
    "    forecast_dates.append(time_i.date())\n",
    "    \n",
    "df_forecast = pd.DataFrame({'Date':np.array(forecast_dates), 'Open':y_pred_future})\n",
    "df_forecast['Date']=pd.to_datetime(df_forecast['Date'])"
   ]
  },
  {
   "cell_type": "code",
   "execution_count": 75,
   "id": "bfdb5daa",
   "metadata": {},
   "outputs": [
    {
     "data": {
      "text/html": [
       "<div>\n",
       "<style scoped>\n",
       "    .dataframe tbody tr th:only-of-type {\n",
       "        vertical-align: middle;\n",
       "    }\n",
       "\n",
       "    .dataframe tbody tr th {\n",
       "        vertical-align: top;\n",
       "    }\n",
       "\n",
       "    .dataframe thead th {\n",
       "        text-align: right;\n",
       "    }\n",
       "</style>\n",
       "<table border=\"1\" class=\"dataframe\">\n",
       "  <thead>\n",
       "    <tr style=\"text-align: right;\">\n",
       "      <th></th>\n",
       "      <th>Date</th>\n",
       "      <th>Open</th>\n",
       "    </tr>\n",
       "  </thead>\n",
       "  <tbody>\n",
       "    <tr>\n",
       "      <th>0</th>\n",
       "      <td>2022-08-12</td>\n",
       "      <td>76.089264</td>\n",
       "    </tr>\n",
       "    <tr>\n",
       "      <th>1</th>\n",
       "      <td>2022-08-15</td>\n",
       "      <td>76.741852</td>\n",
       "    </tr>\n",
       "    <tr>\n",
       "      <th>2</th>\n",
       "      <td>2022-08-16</td>\n",
       "      <td>77.398064</td>\n",
       "    </tr>\n",
       "    <tr>\n",
       "      <th>3</th>\n",
       "      <td>2022-08-17</td>\n",
       "      <td>77.915077</td>\n",
       "    </tr>\n",
       "    <tr>\n",
       "      <th>4</th>\n",
       "      <td>2022-08-18</td>\n",
       "      <td>78.318581</td>\n",
       "    </tr>\n",
       "    <tr>\n",
       "      <th>5</th>\n",
       "      <td>2022-08-19</td>\n",
       "      <td>78.518578</td>\n",
       "    </tr>\n",
       "    <tr>\n",
       "      <th>6</th>\n",
       "      <td>2022-08-22</td>\n",
       "      <td>78.413445</td>\n",
       "    </tr>\n",
       "    <tr>\n",
       "      <th>7</th>\n",
       "      <td>2022-08-23</td>\n",
       "      <td>78.237091</td>\n",
       "    </tr>\n",
       "    <tr>\n",
       "      <th>8</th>\n",
       "      <td>2022-08-24</td>\n",
       "      <td>78.091438</td>\n",
       "    </tr>\n",
       "    <tr>\n",
       "      <th>9</th>\n",
       "      <td>2022-08-25</td>\n",
       "      <td>78.081375</td>\n",
       "    </tr>\n",
       "    <tr>\n",
       "      <th>10</th>\n",
       "      <td>2022-08-26</td>\n",
       "      <td>77.971382</td>\n",
       "    </tr>\n",
       "    <tr>\n",
       "      <th>11</th>\n",
       "      <td>2022-08-29</td>\n",
       "      <td>77.797539</td>\n",
       "    </tr>\n",
       "    <tr>\n",
       "      <th>12</th>\n",
       "      <td>2022-08-30</td>\n",
       "      <td>77.575943</td>\n",
       "    </tr>\n",
       "    <tr>\n",
       "      <th>13</th>\n",
       "      <td>2022-08-31</td>\n",
       "      <td>77.210411</td>\n",
       "    </tr>\n",
       "    <tr>\n",
       "      <th>14</th>\n",
       "      <td>2022-09-01</td>\n",
       "      <td>76.696815</td>\n",
       "    </tr>\n",
       "  </tbody>\n",
       "</table>\n",
       "</div>"
      ],
      "text/plain": [
       "         Date       Open\n",
       "0  2022-08-12  76.089264\n",
       "1  2022-08-15  76.741852\n",
       "2  2022-08-16  77.398064\n",
       "3  2022-08-17  77.915077\n",
       "4  2022-08-18  78.318581\n",
       "5  2022-08-19  78.518578\n",
       "6  2022-08-22  78.413445\n",
       "7  2022-08-23  78.237091\n",
       "8  2022-08-24  78.091438\n",
       "9  2022-08-25  78.081375\n",
       "10 2022-08-26  77.971382\n",
       "11 2022-08-29  77.797539\n",
       "12 2022-08-30  77.575943\n",
       "13 2022-08-31  77.210411\n",
       "14 2022-09-01  76.696815"
      ]
     },
     "execution_count": 75,
     "metadata": {},
     "output_type": "execute_result"
    }
   ],
   "source": [
    "df_forecast"
   ]
  },
  {
   "cell_type": "code",
   "execution_count": 92,
   "id": "99f00249",
   "metadata": {},
   "outputs": [
    {
     "name": "stderr",
     "output_type": "stream",
     "text": [
      "/Users/muskanchoudhary/opt/anaconda3/envs/tf1/lib/python3.7/site-packages/ipykernel_launcher.py:2: SettingWithCopyWarning: \n",
      "A value is trying to be set on a copy of a slice from a DataFrame.\n",
      "Try using .loc[row_indexer,col_indexer] = value instead\n",
      "\n",
      "See the caveats in the documentation: https://pandas.pydata.org/pandas-docs/stable/user_guide/indexing.html#returning-a-view-versus-a-copy\n",
      "  \n"
     ]
    }
   ],
   "source": [
    "\n",
    "original = df[['Date', 'Open']]\n",
    "original['Date']=pd.to_datetime(original['Date'])\n",
    "original = original.loc[original['Date'] >= '2022-5-1']"
   ]
  },
  {
   "cell_type": "code",
   "execution_count": 93,
   "id": "7fc10b17",
   "metadata": {},
   "outputs": [
    {
     "name": "stderr",
     "output_type": "stream",
     "text": [
      "/Users/muskanchoudhary/opt/anaconda3/envs/tf1/lib/python3.7/site-packages/seaborn/_decorators.py:43: FutureWarning: Pass the following variables as keyword args: x, y. From version 0.12, the only valid positional argument will be `data`, and passing other arguments without an explicit keyword will result in an error or misinterpretation.\n",
      "  FutureWarning\n",
      "/Users/muskanchoudhary/opt/anaconda3/envs/tf1/lib/python3.7/site-packages/seaborn/_decorators.py:43: FutureWarning: Pass the following variables as keyword args: x, y. From version 0.12, the only valid positional argument will be `data`, and passing other arguments without an explicit keyword will result in an error or misinterpretation.\n",
      "  FutureWarning\n"
     ]
    },
    {
     "data": {
      "text/plain": [
       "<AxesSubplot:xlabel='Date', ylabel='Open'>"
      ]
     },
     "execution_count": 93,
     "metadata": {},
     "output_type": "execute_result"
    },
    {
     "data": {
      "image/png": "[encoded data removed]",
      "text/plain": [
       "<Figure size 640x480 with 1 Axes>"
      ]
     },
     "metadata": {},
     "output_type": "display_data"
    }
   ],
   "source": [
    "sns.lineplot(original['Date'], original['Open'])\n",
    "sns.lineplot(df_forecast['Date'], df_forecast['Open'])\n"
   ]
  },
  {
   "cell_type": "code",
   "execution_count": null,
   "id": "e301d7a1",
   "metadata": {},
   "outputs": [],
   "source": []
  },
  {
   "cell_type": "code",
   "execution_count": null,
   "id": "d4ce96f0",
   "metadata": {},
   "outputs": [],
   "source": []
  }
 ],
 "metadata": {
  "kernelspec": {
   "display_name": "Python 3 (ipykernel)",
   "language": "python",
   "name": "python3"
  },
  "language_info": {
   "codemirror_mode": {
    "name": "ipython",
    "version": 3
   },
   "file_extension": ".py",
   "mimetype": "text/x-python",
   "name": "python",
   "nbconvert_exporter": "python",
   "pygments_lexer": "ipython3",
   "version": "3.7.13"
  }
 },
 "nbformat": 4,
 "nbformat_minor": 5
}
