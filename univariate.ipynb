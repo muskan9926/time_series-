{
 "cells": [
  {
   "cell_type": "code",
   "execution_count": 1,
   "id": "10741392",
   "metadata": {},
   "outputs": [],
   "source": [
    "import pandas as pd"
   ]
  },
  {
   "cell_type": "code",
   "execution_count": 2,
   "id": "888d079d",
   "metadata": {},
   "outputs": [],
   "source": [
    "df=pd.read_csv('spx.csv')"
   ]
  },
  {
   "cell_type": "code",
   "execution_count": 3,
   "id": "e0a190e2",
   "metadata": {},
   "outputs": [
    {
     "data": {
      "text/html": [
       "<div>\n",
       "<style scoped>\n",
       "    .dataframe tbody tr th:only-of-type {\n",
       "        vertical-align: middle;\n",
       "    }\n",
       "\n",
       "    .dataframe tbody tr th {\n",
       "        vertical-align: top;\n",
       "    }\n",
       "\n",
       "    .dataframe thead th {\n",
       "        text-align: right;\n",
       "    }\n",
       "</style>\n",
       "<table border=\"1\" class=\"dataframe\">\n",
       "  <thead>\n",
       "    <tr style=\"text-align: right;\">\n",
       "      <th></th>\n",
       "      <th>date</th>\n",
       "      <th>close</th>\n",
       "    </tr>\n",
       "  </thead>\n",
       "  <tbody>\n",
       "    <tr>\n",
       "      <th>0</th>\n",
       "      <td>02-Jan-86</td>\n",
       "      <td>209.59</td>\n",
       "    </tr>\n",
       "    <tr>\n",
       "      <th>1</th>\n",
       "      <td>03-Jan-86</td>\n",
       "      <td>210.88</td>\n",
       "    </tr>\n",
       "    <tr>\n",
       "      <th>2</th>\n",
       "      <td>06-Jan-86</td>\n",
       "      <td>210.65</td>\n",
       "    </tr>\n",
       "    <tr>\n",
       "      <th>3</th>\n",
       "      <td>07-Jan-86</td>\n",
       "      <td>213.80</td>\n",
       "    </tr>\n",
       "    <tr>\n",
       "      <th>4</th>\n",
       "      <td>08-Jan-86</td>\n",
       "      <td>207.97</td>\n",
       "    </tr>\n",
       "  </tbody>\n",
       "</table>\n",
       "</div>"
      ],
      "text/plain": [
       "        date   close\n",
       "0  02-Jan-86  209.59\n",
       "1  03-Jan-86  210.88\n",
       "2  06-Jan-86  210.65\n",
       "3  07-Jan-86  213.80\n",
       "4  08-Jan-86  207.97"
      ]
     },
     "execution_count": 3,
     "metadata": {},
     "output_type": "execute_result"
    }
   ],
   "source": [
    "df.head()"
   ]
  },
  {
   "cell_type": "code",
   "execution_count": 4,
   "id": "2545f79c",
   "metadata": {},
   "outputs": [
    {
     "data": {
      "text/plain": [
       "(8192, 2)"
      ]
     },
     "execution_count": 4,
     "metadata": {},
     "output_type": "execute_result"
    }
   ],
   "source": [
    "df.shape"
   ]
  },
  {
   "cell_type": "code",
   "execution_count": 5,
   "id": "1bd2053d",
   "metadata": {},
   "outputs": [],
   "source": [
    " df = pd.read_csv('spx.csv', parse_dates=['date'], index_col='date')"
   ]
  },
  {
   "cell_type": "code",
   "execution_count": 6,
   "id": "f3fba675",
   "metadata": {},
   "outputs": [
    {
     "data": {
      "text/html": [
       "<div>\n",
       "<style scoped>\n",
       "    .dataframe tbody tr th:only-of-type {\n",
       "        vertical-align: middle;\n",
       "    }\n",
       "\n",
       "    .dataframe tbody tr th {\n",
       "        vertical-align: top;\n",
       "    }\n",
       "\n",
       "    .dataframe thead th {\n",
       "        text-align: right;\n",
       "    }\n",
       "</style>\n",
       "<table border=\"1\" class=\"dataframe\">\n",
       "  <thead>\n",
       "    <tr style=\"text-align: right;\">\n",
       "      <th></th>\n",
       "      <th>close</th>\n",
       "    </tr>\n",
       "    <tr>\n",
       "      <th>date</th>\n",
       "      <th></th>\n",
       "    </tr>\n",
       "  </thead>\n",
       "  <tbody>\n",
       "    <tr>\n",
       "      <th>1986-01-02</th>\n",
       "      <td>209.59</td>\n",
       "    </tr>\n",
       "    <tr>\n",
       "      <th>1986-01-03</th>\n",
       "      <td>210.88</td>\n",
       "    </tr>\n",
       "    <tr>\n",
       "      <th>1986-01-06</th>\n",
       "      <td>210.65</td>\n",
       "    </tr>\n",
       "    <tr>\n",
       "      <th>1986-01-07</th>\n",
       "      <td>213.80</td>\n",
       "    </tr>\n",
       "    <tr>\n",
       "      <th>1986-01-08</th>\n",
       "      <td>207.97</td>\n",
       "    </tr>\n",
       "    <tr>\n",
       "      <th>...</th>\n",
       "      <td>...</td>\n",
       "    </tr>\n",
       "    <tr>\n",
       "      <th>2018-06-25</th>\n",
       "      <td>2717.07</td>\n",
       "    </tr>\n",
       "    <tr>\n",
       "      <th>2018-06-26</th>\n",
       "      <td>2723.06</td>\n",
       "    </tr>\n",
       "    <tr>\n",
       "      <th>2018-06-27</th>\n",
       "      <td>2699.63</td>\n",
       "    </tr>\n",
       "    <tr>\n",
       "      <th>2018-06-28</th>\n",
       "      <td>2716.31</td>\n",
       "    </tr>\n",
       "    <tr>\n",
       "      <th>2018-06-29</th>\n",
       "      <td>2718.37</td>\n",
       "    </tr>\n",
       "  </tbody>\n",
       "</table>\n",
       "<p>8192 rows × 1 columns</p>\n",
       "</div>"
      ],
      "text/plain": [
       "              close\n",
       "date               \n",
       "1986-01-02   209.59\n",
       "1986-01-03   210.88\n",
       "1986-01-06   210.65\n",
       "1986-01-07   213.80\n",
       "1986-01-08   207.97\n",
       "...             ...\n",
       "2018-06-25  2717.07\n",
       "2018-06-26  2723.06\n",
       "2018-06-27  2699.63\n",
       "2018-06-28  2716.31\n",
       "2018-06-29  2718.37\n",
       "\n",
       "[8192 rows x 1 columns]"
      ]
     },
     "execution_count": 6,
     "metadata": {},
     "output_type": "execute_result"
    }
   ],
   "source": [
    "df"
   ]
  },
  {
   "cell_type": "code",
   "execution_count": 7,
   "id": "25471cbf",
   "metadata": {},
   "outputs": [
    {
     "data": {
      "text/plain": [
       "(8192, 1)"
      ]
     },
     "execution_count": 7,
     "metadata": {},
     "output_type": "execute_result"
    }
   ],
   "source": [
    "df.shape"
   ]
  },
  {
   "cell_type": "code",
   "execution_count": 8,
   "id": "76af1612",
   "metadata": {},
   "outputs": [],
   "source": [
    "import matplotlib.pyplot as plt"
   ]
  },
  {
   "cell_type": "code",
   "execution_count": 9,
   "id": "839d6ac3",
   "metadata": {},
   "outputs": [
    {
     "data": {
      "text/plain": [
       "[<matplotlib.lines.Line2D at 0x7f7f628fa250>]"
      ]
     },
     "execution_count": 9,
     "metadata": {},
     "output_type": "execute_result"
    },
    {
     "data": {
      "image/png": "[encoded data removed]",
      "text/plain": [
       "<Figure size 640x480 with 1 Axes>"
      ]
     },
     "metadata": {},
     "output_type": "display_data"
    }
   ],
   "source": [
    "plt.plot(df,label='close price')"
   ]
  },
  {
   "cell_type": "code",
   "execution_count": 10,
   "id": "7a920298",
   "metadata": {},
   "outputs": [],
   "source": [
    "#splitting data set\n",
    "train_size=int(len(df)*0.95)\n",
    "test_size=len(df)-train_size\n",
    "train,test=df.iloc[0:train_size,:],df.iloc[train_size:len(df):1]\n",
    "\n"
   ]
  },
  {
   "cell_type": "code",
   "execution_count": 11,
   "id": "83b3c9b7",
   "metadata": {},
   "outputs": [
    {
     "data": {
      "text/plain": [
       "(7782, 410)"
      ]
     },
     "execution_count": 11,
     "metadata": {},
     "output_type": "execute_result"
    }
   ],
   "source": [
    "train_size,test_size"
   ]
  },
  {
   "cell_type": "code",
   "execution_count": 12,
   "id": "f39d2cbe",
   "metadata": {},
   "outputs": [
    {
     "data": {
      "text/plain": [
       "(7782, 1)"
      ]
     },
     "execution_count": 12,
     "metadata": {},
     "output_type": "execute_result"
    }
   ],
   "source": [
    "train.shape"
   ]
  },
  {
   "cell_type": "code",
   "execution_count": 13,
   "id": "bf44c038",
   "metadata": {},
   "outputs": [
    {
     "data": {
      "text/plain": [
       "(410, 1)"
      ]
     },
     "execution_count": 13,
     "metadata": {},
     "output_type": "execute_result"
    }
   ],
   "source": [
    "test.shape"
   ]
  },
  {
   "cell_type": "code",
   "execution_count": 14,
   "id": "c739c373",
   "metadata": {},
   "outputs": [],
   "source": [
    "import numpy as np"
   ]
  },
  {
   "cell_type": "code",
   "execution_count": 15,
   "id": "c97d1592",
   "metadata": {},
   "outputs": [],
   "source": [
    "from sklearn.preprocessing import StandardScaler\n",
    "scaler=StandardScaler()\n",
    "sacler=scaler.fit(train[['close']])\n"
   ]
  },
  {
   "cell_type": "code",
   "execution_count": 16,
   "id": "940e59d0",
   "metadata": {},
   "outputs": [
    {
     "name": "stderr",
     "output_type": "stream",
     "text": [
      "/Users/muskanchoudhary/opt/anaconda3/envs/tf1/lib/python3.7/site-packages/ipykernel_launcher.py:1: SettingWithCopyWarning: \n",
      "A value is trying to be set on a copy of a slice from a DataFrame.\n",
      "Try using .loc[row_indexer,col_indexer] = value instead\n",
      "\n",
      "See the caveats in the documentation: https://pandas.pydata.org/pandas-docs/stable/user_guide/indexing.html#returning-a-view-versus-a-copy\n",
      "  \"\"\"Entry point for launching an IPython kernel.\n",
      "/Users/muskanchoudhary/opt/anaconda3/envs/tf1/lib/python3.7/site-packages/ipykernel_launcher.py:2: SettingWithCopyWarning: \n",
      "A value is trying to be set on a copy of a slice from a DataFrame.\n",
      "Try using .loc[row_indexer,col_indexer] = value instead\n",
      "\n",
      "See the caveats in the documentation: https://pandas.pydata.org/pandas-docs/stable/user_guide/indexing.html#returning-a-view-versus-a-copy\n",
      "  \n"
     ]
    }
   ],
   "source": [
    "train['close']=scaler.transform(train[['close']])\n",
    "test['close']=scaler.transform(test[['close']])"
   ]
  },
  {
   "cell_type": "code",
   "execution_count": 17,
   "id": "4a15ce69",
   "metadata": {},
   "outputs": [
    {
     "data": {
      "text/html": [
       "<div>\n",
       "<style scoped>\n",
       "    .dataframe tbody tr th:only-of-type {\n",
       "        vertical-align: middle;\n",
       "    }\n",
       "\n",
       "    .dataframe tbody tr th {\n",
       "        vertical-align: top;\n",
       "    }\n",
       "\n",
       "    .dataframe thead th {\n",
       "        text-align: right;\n",
       "    }\n",
       "</style>\n",
       "<table border=\"1\" class=\"dataframe\">\n",
       "  <thead>\n",
       "    <tr style=\"text-align: right;\">\n",
       "      <th></th>\n",
       "      <th>close</th>\n",
       "    </tr>\n",
       "    <tr>\n",
       "      <th>date</th>\n",
       "      <th></th>\n",
       "    </tr>\n",
       "  </thead>\n",
       "  <tbody>\n",
       "    <tr>\n",
       "      <th>1986-01-02</th>\n",
       "      <td>-1.475126</td>\n",
       "    </tr>\n",
       "    <tr>\n",
       "      <th>1986-01-03</th>\n",
       "      <td>-1.472703</td>\n",
       "    </tr>\n",
       "    <tr>\n",
       "      <th>1986-01-06</th>\n",
       "      <td>-1.473135</td>\n",
       "    </tr>\n",
       "    <tr>\n",
       "      <th>1986-01-07</th>\n",
       "      <td>-1.467219</td>\n",
       "    </tr>\n",
       "    <tr>\n",
       "      <th>1986-01-08</th>\n",
       "      <td>-1.478169</td>\n",
       "    </tr>\n",
       "  </tbody>\n",
       "</table>\n",
       "</div>"
      ],
      "text/plain": [
       "               close\n",
       "date                \n",
       "1986-01-02 -1.475126\n",
       "1986-01-03 -1.472703\n",
       "1986-01-06 -1.473135\n",
       "1986-01-07 -1.467219\n",
       "1986-01-08 -1.478169"
      ]
     },
     "execution_count": 17,
     "metadata": {},
     "output_type": "execute_result"
    }
   ],
   "source": [
    "train.head()"
   ]
  },
  {
   "cell_type": "code",
   "execution_count": 18,
   "id": "39361fc2",
   "metadata": {},
   "outputs": [],
   "source": [
    "def create_dataset(X, y, time_steps=1):\n",
    "    Xs, ys = [], []\n",
    "    for i in range(len(X) - time_steps):\n",
    "        v = X.iloc[i:(i + time_steps)].values\n",
    "        Xs.append(v)\n",
    "        ys.append(y.iloc[i + time_steps])\n",
    "    return np.array(Xs), np.array(ys)"
   ]
  },
  {
   "cell_type": "code",
   "execution_count": 19,
   "id": "fdebd3f8",
   "metadata": {},
   "outputs": [],
   "source": [
    "# reshape into X=t,t+1,t+2,t+3 and Y=t+4\n",
    "time_step = 30\n",
    "X_train, y_train = create_dataset(train[['close']],train.close,time_step)\n",
    "X_test, ytest = create_dataset(test[['close']],test.close,time_step)\n"
   ]
  },
  {
   "cell_type": "code",
   "execution_count": 20,
   "id": "baadb5c5",
   "metadata": {},
   "outputs": [
    {
     "name": "stdout",
     "output_type": "stream",
     "text": [
      "(7752, 30, 1)\n",
      "(7752,)\n"
     ]
    },
    {
     "data": {
      "text/plain": [
       "(None, None)"
      ]
     },
     "execution_count": 20,
     "metadata": {},
     "output_type": "execute_result"
    }
   ],
   "source": [
    "print(X_train.shape), print(y_train.shape)"
   ]
  },
  {
   "cell_type": "code",
   "execution_count": 21,
   "id": "758ba54e",
   "metadata": {},
   "outputs": [
    {
     "data": {
      "text/plain": [
       "date\n",
       "1986-01-02   -1.475126\n",
       "1986-01-03   -1.472703\n",
       "1986-01-06   -1.473135\n",
       "1986-01-07   -1.467219\n",
       "1986-01-08   -1.478169\n",
       "                ...   \n",
       "2016-11-04    2.047774\n",
       "2016-11-07    2.134814\n",
       "2016-11-08    2.149916\n",
       "2016-11-09    2.194431\n",
       "2016-11-10    2.202357\n",
       "Name: close, Length: 7782, dtype: float64"
      ]
     },
     "execution_count": 21,
     "metadata": {},
     "output_type": "execute_result"
    }
   ],
   "source": [
    "train.close"
   ]
  },
  {
   "cell_type": "code",
   "execution_count": 22,
   "id": "d023e463",
   "metadata": {},
   "outputs": [
    {
     "name": "stdout",
     "output_type": "stream",
     "text": [
      "(380, 30, 1)\n",
      "(380,)\n"
     ]
    },
    {
     "data": {
      "text/plain": [
       "(None, None)"
      ]
     },
     "execution_count": 22,
     "metadata": {},
     "output_type": "execute_result"
    }
   ],
   "source": [
    "print(X_test.shape),print(ytest.shape)"
   ]
  },
  {
   "cell_type": "code",
   "execution_count": 23,
   "id": "b92742db",
   "metadata": {},
   "outputs": [],
   "source": [
    "import tensorflow as tf"
   ]
  },
  {
   "cell_type": "code",
   "execution_count": 24,
   "id": "f002ce4c",
   "metadata": {},
   "outputs": [],
   "source": [
    "from tensorflow.keras.models import Sequential\n",
    "from tensorflow.keras.layers import Dense\n",
    "from tensorflow.keras.layers import LSTM\n",
    "from tensorflow.keras.layers import Dropout,RepeatVector,TimeDistributed"
   ]
  },
  {
   "cell_type": "code",
   "execution_count": 25,
   "id": "54b0779c",
   "metadata": {},
   "outputs": [
    {
     "name": "stderr",
     "output_type": "stream",
     "text": [
      "2022-09-04 17:51:03.454312: I tensorflow/core/platform/cpu_feature_guard.cc:145] This TensorFlow binary is optimized with Intel(R) MKL-DNN to use the following CPU instructions in performance critical operations:  SSE4.1 SSE4.2\n",
      "To enable them in non-MKL-DNN operations, rebuild TensorFlow with the appropriate compiler flags.\n",
      "2022-09-04 17:51:03.455684: I tensorflow/core/common_runtime/process_util.cc:115] Creating new thread pool with default inter op setting: 8. Tune using inter_op_parallelism_threads for best performance.\n"
     ]
    },
    {
     "name": "stdout",
     "output_type": "stream",
     "text": [
      "Model: \"sequential\"\n",
      "_________________________________________________________________\n",
      "Layer (type)                 Output Shape              Param #   \n",
      "=================================================================\n",
      "lstm (LSTM)                  (None, 64)                16896     \n",
      "_________________________________________________________________\n",
      "dropout (Dropout)            (None, 64)                0         \n",
      "_________________________________________________________________\n",
      "repeat_vector (RepeatVector) (None, 30, 64)            0         \n",
      "_________________________________________________________________\n",
      "lstm_1 (LSTM)                (None, 30, 64)            33024     \n",
      "_________________________________________________________________\n",
      "dropout_1 (Dropout)          (None, 30, 64)            0         \n",
      "_________________________________________________________________\n",
      "time_distributed (TimeDistri (None, 30, 1)             65        \n",
      "=================================================================\n",
      "Total params: 49,985\n",
      "Trainable params: 49,985\n",
      "Non-trainable params: 0\n",
      "_________________________________________________________________\n"
     ]
    }
   ],
   "source": [
    "model = Sequential()\n",
    "model.add(LSTM(\n",
    "    units=64,\n",
    "    input_shape=(X_train.shape[1], X_train.shape[2])\n",
    "))\n",
    "model.add(Dropout(rate=0.2))\n",
    "model.add(RepeatVector(n=X_train.shape[1]))\n",
    "model.add(LSTM(units=64, return_sequences=True))\n",
    "model.add(Dropout(rate=0.2))\n",
    "model.add(\n",
    "  TimeDistributed(\n",
    "    Dense(units=X_train.shape[2])\n",
    "  )\n",
    ")\n",
    "\n",
    "model.compile(loss='mae', optimizer='adam')\n",
    "model.summary()"
   ]
  },
  {
   "cell_type": "code",
   "execution_count": 26,
   "id": "51e87e76",
   "metadata": {},
   "outputs": [
    {
     "name": "stdout",
     "output_type": "stream",
     "text": [
      "Requirement already satisfied: numpy==1.18.5 in /Users/muskanchoudhary/opt/anaconda3/envs/tf1/lib/python3.7/site-packages (1.18.5)\n",
      "Note: you may need to restart the kernel to use updated packages.\n"
     ]
    }
   ],
   "source": [
    "pip install -U numpy==1.18.5"
   ]
  },
  {
   "cell_type": "code",
   "execution_count": 27,
   "id": "ccd274e6",
   "metadata": {},
   "outputs": [
    {
     "name": "stdout",
     "output_type": "stream",
     "text": [
      "Train on 6976 samples, validate on 776 samples\n",
      "Epoch 1/10\n"
     ]
    },
    {
     "name": "stderr",
     "output_type": "stream",
     "text": [
      "2022-09-04 17:51:06.914232: W tensorflow/core/grappler/optimizers/implementation_selector.cc:310] Skipping optimization due to error while loading function libraries: Invalid argument: Functions '__inference___backward_standard_lstm_5287_5758' and '__inference___backward_standard_lstm_5287_5758_specialized_for_StatefulPartitionedCall_1_at___inference_distributed_function_5856' both implement 'lstm_eb79bb22-7549-4e7f-a52b-8ac425ea91e0' but their signatures do not match.\n"
     ]
    },
    {
     "name": "stdout",
     "output_type": "stream",
     "text": [
      "6944/6976 [============================>.] - ETA: 0s - loss: 0.1641"
     ]
    },
    {
     "name": "stderr",
     "output_type": "stream",
     "text": [
      "2022-09-04 17:51:35.351374: W tensorflow/core/grappler/optimizers/implementation_selector.cc:310] Skipping optimization due to error while loading function libraries: Invalid argument: Functions '__inference_standard_lstm_6483' and '__inference_standard_lstm_6483_specialized_for_sequential_lstm_StatefulPartitionedCall_at___inference_distributed_function_7293' both implement 'lstm_d153e8a3-705d-40c9-8e29-59362de56d63' but their signatures do not match.\n"
     ]
    },
    {
     "name": "stdout",
     "output_type": "stream",
     "text": [
      "6976/6976 [==============================] - 32s 5ms/sample - loss: 0.1641 - val_loss: 0.1917\n",
      "Epoch 2/10\n",
      "6976/6976 [==============================] - 27s 4ms/sample - loss: 0.0890 - val_loss: 0.1927\n",
      "Epoch 3/10\n",
      "6976/6976 [==============================] - 28s 4ms/sample - loss: 0.0956 - val_loss: 0.0853\n",
      "Epoch 4/10\n",
      "6976/6976 [==============================] - 28s 4ms/sample - loss: 0.0887 - val_loss: 0.1049\n",
      "Epoch 5/10\n",
      "6976/6976 [==============================] - 33s 5ms/sample - loss: 0.0915 - val_loss: 0.0893\n",
      "Epoch 6/10\n",
      "6976/6976 [==============================] - 37s 5ms/sample - loss: 0.1116 - val_loss: 0.0689\n",
      "Epoch 7/10\n",
      "6976/6976 [==============================] - 44s 6ms/sample - loss: 0.1073 - val_loss: 0.0982\n",
      "Epoch 8/10\n",
      "6976/6976 [==============================] - 47s 7ms/sample - loss: 0.1084 - val_loss: 0.0582\n",
      "Epoch 9/10\n",
      "6976/6976 [==============================] - 35s 5ms/sample - loss: 0.1057 - val_loss: 0.0684\n",
      "Epoch 10/10\n",
      "6976/6976 [==============================] - 44s 6ms/sample - loss: 0.1009 - val_loss: 0.0726\n"
     ]
    }
   ],
   "source": [
    "history = model.fit(\n",
    "    X_train, y_train,\n",
    "    epochs=10,\n",
    "    batch_size=32,\n",
    "    validation_split=0.1,\n",
    "#     we dont want our data to shuffle in time series never\n",
    "    shuffle=False)"
   ]
  },
  {
   "cell_type": "code",
   "execution_count": 28,
   "id": "3ba7dfed",
   "metadata": {},
   "outputs": [
    {
     "data": {
      "image/png": "[encoded data removed]",
      "text/plain": [
       "<Figure size 640x480 with 1 Axes>"
      ]
     },
     "metadata": {},
     "output_type": "display_data"
    }
   ],
   "source": [
    "plt.plot(history.history['loss'],label=['train'])\n",
    "plt.plot(history.history['val_loss'],label=['test'])\n",
    "plt.legend();"
   ]
  },
  {
   "cell_type": "code",
   "execution_count": 29,
   "id": "5a7b8568",
   "metadata": {},
   "outputs": [
    {
     "name": "stderr",
     "output_type": "stream",
     "text": [
      "2022-09-04 17:57:01.034969: W tensorflow/core/grappler/optimizers/implementation_selector.cc:310] Skipping optimization due to error while loading function libraries: Invalid argument: Functions '__inference_standard_lstm_11979' and '__inference_standard_lstm_11979_specialized_for_sequential_lstm_StatefulPartitionedCall_at___inference_distributed_function_12760' both implement 'lstm_5da1b85d-040a-4daf-b8ad-a3ab14c4ea5f' but their signatures do not match.\n"
     ]
    }
   ],
   "source": [
    "X_train_pred = model.predict(X_train)\n",
    "\n",
    "train_mae_loss = np.mean(np.abs(X_train_pred - X_train), axis=1)"
   ]
  },
  {
   "cell_type": "code",
   "execution_count": 30,
   "id": "ef73ee61",
   "metadata": {},
   "outputs": [],
   "source": [
    "import seaborn as sns"
   ]
  },
  {
   "cell_type": "code",
   "execution_count": 31,
   "id": "c80fbb0a",
   "metadata": {},
   "outputs": [
    {
     "name": "stderr",
     "output_type": "stream",
     "text": [
      "/Users/muskanchoudhary/opt/anaconda3/envs/tf1/lib/python3.7/site-packages/seaborn/distributions.py:2619: FutureWarning: `distplot` is a deprecated function and will be removed in a future version. Please adapt your code to use either `displot` (a figure-level function with similar flexibility) or `histplot` (an axes-level function for histograms).\n",
      "  warnings.warn(msg, FutureWarning)\n"
     ]
    },
    {
     "data": {
      "text/plain": [
       "<AxesSubplot:ylabel='Density'>"
      ]
     },
     "execution_count": 31,
     "metadata": {},
     "output_type": "execute_result"
    },
    {
     "data": {
      "image/png": "[encoded data removed]",
      "text/plain": [
       "<Figure size 640x480 with 1 Axes>"
      ]
     },
     "metadata": {},
     "output_type": "display_data"
    }
   ],
   "source": [
    "sns.distplot(train_mae_loss,bins=50,kde=True)"
   ]
  },
  {
   "cell_type": "code",
   "execution_count": 32,
   "id": "1036420a",
   "metadata": {},
   "outputs": [],
   "source": [
    "X_test_pred = model.predict(X_test)\n",
    "\n",
    "test_mae_loss = np.mean(np.abs(X_test_pred - X_test), axis=1)"
   ]
  },
  {
   "cell_type": "code",
   "execution_count": 33,
   "id": "59c7e60d",
   "metadata": {},
   "outputs": [
    {
     "data": {
      "text/plain": [
       "array([[0.10350864],\n",
       "       [0.10198161],\n",
       "       [0.10257082],\n",
       "       [0.10404145],\n",
       "       [0.10883998],\n",
       "       [0.10866039],\n",
       "       [0.10188102],\n",
       "       [0.0999469 ],\n",
       "       [0.09301003],\n",
       "       [0.09417337],\n",
       "       [0.0956948 ],\n",
       "       [0.09474287],\n",
       "       [0.09693108],\n",
       "       [0.10025372],\n",
       "       [0.10345681],\n",
       "       [0.10530883],\n",
       "       [0.10804909],\n",
       "       [0.10609391],\n",
       "       [0.10589158],\n",
       "       [0.10123547],\n",
       "       [0.08292233],\n",
       "       [0.07817201],\n",
       "       [0.07758527],\n",
       "       [0.0838673 ],\n",
       "       [0.09299315],\n",
       "       [0.09748172],\n",
       "       [0.10053949],\n",
       "       [0.09095603],\n",
       "       [0.09243954],\n",
       "       [0.08906205],\n",
       "       [0.09181802],\n",
       "       [0.08445255],\n",
       "       [0.07858005],\n",
       "       [0.0783027 ],\n",
       "       [0.07876288],\n",
       "       [0.08608219],\n",
       "       [0.09188624],\n",
       "       [0.09539848],\n",
       "       [0.10455114],\n",
       "       [0.10624605],\n",
       "       [0.10807197],\n",
       "       [0.1088199 ],\n",
       "       [0.11053917],\n",
       "       [0.10849169],\n",
       "       [0.11503919],\n",
       "       [0.1160599 ],\n",
       "       [0.11613734],\n",
       "       [0.11657464],\n",
       "       [0.11343736],\n",
       "       [0.11427877],\n",
       "       [0.1151284 ],\n",
       "       [0.11489085],\n",
       "       [0.11636063],\n",
       "       [0.11764191],\n",
       "       [0.11334883],\n",
       "       [0.10932096],\n",
       "       [0.11154555],\n",
       "       [0.11721706],\n",
       "       [0.14043253],\n",
       "       [0.15283748],\n",
       "       [0.15961564],\n",
       "       [0.16258845],\n",
       "       [0.16666778],\n",
       "       [0.15524832],\n",
       "       [0.14469718],\n",
       "       [0.13436288],\n",
       "       [0.1308159 ],\n",
       "       [0.13378285],\n",
       "       [0.13456116],\n",
       "       [0.1406418 ],\n",
       "       [0.13687131],\n",
       "       [0.14009175],\n",
       "       [0.134672  ],\n",
       "       [0.13872561],\n",
       "       [0.14402754],\n",
       "       [0.15916475],\n",
       "       [0.15326191],\n",
       "       [0.15078997],\n",
       "       [0.15137366],\n",
       "       [0.13964846],\n",
       "       [0.133128  ],\n",
       "       [0.11521067],\n",
       "       [0.09077208],\n",
       "       [0.08169002],\n",
       "       [0.0814229 ],\n",
       "       [0.08281395],\n",
       "       [0.08755626],\n",
       "       [0.0867911 ],\n",
       "       [0.09110382],\n",
       "       [0.09291444],\n",
       "       [0.09287228],\n",
       "       [0.09220685],\n",
       "       [0.09386033],\n",
       "       [0.09610654],\n",
       "       [0.09924328],\n",
       "       [0.10436293],\n",
       "       [0.10291683],\n",
       "       [0.10510663],\n",
       "       [0.12670736],\n",
       "       [0.14341332],\n",
       "       [0.14021399],\n",
       "       [0.13083871],\n",
       "       [0.12040294],\n",
       "       [0.11506402],\n",
       "       [0.10820107],\n",
       "       [0.09968081],\n",
       "       [0.10387716],\n",
       "       [0.10461131],\n",
       "       [0.09793841],\n",
       "       [0.09214081],\n",
       "       [0.08828477],\n",
       "       [0.09273484],\n",
       "       [0.09625051],\n",
       "       [0.09962291],\n",
       "       [0.10324795],\n",
       "       [0.10731174],\n",
       "       [0.10557951],\n",
       "       [0.10639326],\n",
       "       [0.11021696],\n",
       "       [0.11282661],\n",
       "       [0.10669743],\n",
       "       [0.10847252],\n",
       "       [0.11526396],\n",
       "       [0.11914059],\n",
       "       [0.12372103],\n",
       "       [0.1227324 ],\n",
       "       [0.13967045],\n",
       "       [0.13746116],\n",
       "       [0.14649079],\n",
       "       [0.14966091],\n",
       "       [0.14828758],\n",
       "       [0.14494475],\n",
       "       [0.15788689],\n",
       "       [0.15748381],\n",
       "       [0.15202113],\n",
       "       [0.1499779 ],\n",
       "       [0.13637427],\n",
       "       [0.12594359],\n",
       "       [0.11254722],\n",
       "       [0.10606378],\n",
       "       [0.10273998],\n",
       "       [0.0948341 ],\n",
       "       [0.09208611],\n",
       "       [0.09406693],\n",
       "       [0.09703522],\n",
       "       [0.09808917],\n",
       "       [0.09760853],\n",
       "       [0.10155477],\n",
       "       [0.10416762],\n",
       "       [0.11129398],\n",
       "       [0.11289549],\n",
       "       [0.11020555],\n",
       "       [0.11879641],\n",
       "       [0.11589086],\n",
       "       [0.1206023 ],\n",
       "       [0.1196074 ],\n",
       "       [0.12899341],\n",
       "       [0.15176554],\n",
       "       [0.17152442],\n",
       "       [0.16200257],\n",
       "       [0.15846231],\n",
       "       [0.15177765],\n",
       "       [0.17270721],\n",
       "       [0.19217487],\n",
       "       [0.1975538 ],\n",
       "       [0.18463884],\n",
       "       [0.17782608],\n",
       "       [0.1766609 ],\n",
       "       [0.17375457],\n",
       "       [0.16912553],\n",
       "       [0.16583557],\n",
       "       [0.15428011],\n",
       "       [0.13802449],\n",
       "       [0.12414949],\n",
       "       [0.13005549],\n",
       "       [0.13083086],\n",
       "       [0.13061643],\n",
       "       [0.13327225],\n",
       "       [0.11750232],\n",
       "       [0.10360218],\n",
       "       [0.09674268],\n",
       "       [0.09818684],\n",
       "       [0.09788735],\n",
       "       [0.0994408 ],\n",
       "       [0.10058078],\n",
       "       [0.09971902],\n",
       "       [0.10665318],\n",
       "       [0.10461247],\n",
       "       [0.11435067],\n",
       "       [0.11649624],\n",
       "       [0.1195703 ],\n",
       "       [0.11727345],\n",
       "       [0.1154609 ],\n",
       "       [0.10941577],\n",
       "       [0.106071  ],\n",
       "       [0.10569009],\n",
       "       [0.10278304],\n",
       "       [0.10037174],\n",
       "       [0.10393717],\n",
       "       [0.10353999],\n",
       "       [0.10365529],\n",
       "       [0.10564125],\n",
       "       [0.10896783],\n",
       "       [0.11279104],\n",
       "       [0.11238895],\n",
       "       [0.11609871],\n",
       "       [0.11703478],\n",
       "       [0.11344619],\n",
       "       [0.11622443],\n",
       "       [0.11792289],\n",
       "       [0.12703078],\n",
       "       [0.13315625],\n",
       "       [0.12756637],\n",
       "       [0.12806098],\n",
       "       [0.12972517],\n",
       "       [0.13045413],\n",
       "       [0.13116563],\n",
       "       [0.12984836],\n",
       "       [0.12712118],\n",
       "       [0.12703858],\n",
       "       [0.12540376],\n",
       "       [0.13230354],\n",
       "       [0.13953893],\n",
       "       [0.14489446],\n",
       "       [0.15135962],\n",
       "       [0.1657883 ],\n",
       "       [0.16158116],\n",
       "       [0.16190427],\n",
       "       [0.16053462],\n",
       "       [0.14982426],\n",
       "       [0.14404579],\n",
       "       [0.13890522],\n",
       "       [0.13827134],\n",
       "       [0.12227885],\n",
       "       [0.1183997 ],\n",
       "       [0.10265553],\n",
       "       [0.10116757],\n",
       "       [0.10421665],\n",
       "       [0.11379239],\n",
       "       [0.12348947],\n",
       "       [0.12471327],\n",
       "       [0.12049865],\n",
       "       [0.11583764],\n",
       "       [0.11541538],\n",
       "       [0.11695752],\n",
       "       [0.12211602],\n",
       "       [0.12099268],\n",
       "       [0.12008763],\n",
       "       [0.1198644 ],\n",
       "       [0.12323521],\n",
       "       [0.1221285 ],\n",
       "       [0.12662744],\n",
       "       [0.13085392],\n",
       "       [0.13670439],\n",
       "       [0.14024155],\n",
       "       [0.14727164],\n",
       "       [0.14661585],\n",
       "       [0.13227549],\n",
       "       [0.12507708],\n",
       "       [0.11387252],\n",
       "       [0.11549499],\n",
       "       [0.11132313],\n",
       "       [0.11291527],\n",
       "       [0.11117486],\n",
       "       [0.11755742],\n",
       "       [0.12190762],\n",
       "       [0.13068798],\n",
       "       [0.13572539],\n",
       "       [0.14060915],\n",
       "       [0.14551123],\n",
       "       [0.14667023],\n",
       "       [0.15032916],\n",
       "       [0.15141544],\n",
       "       [0.15881236],\n",
       "       [0.15994817],\n",
       "       [0.15607235],\n",
       "       [0.15634927],\n",
       "       [0.16216564],\n",
       "       [0.19227173],\n",
       "       [0.29090952],\n",
       "       [0.32935767],\n",
       "       [0.35275446],\n",
       "       [0.42422558],\n",
       "       [0.44583923],\n",
       "       [0.41784025],\n",
       "       [0.38779774],\n",
       "       [0.34299569],\n",
       "       [0.29372743],\n",
       "       [0.26800051],\n",
       "       [0.25913506],\n",
       "       [0.26560647],\n",
       "       [0.26790494],\n",
       "       [0.24401092],\n",
       "       [0.21804714],\n",
       "       [0.21079398],\n",
       "       [0.22645054],\n",
       "       [0.2559473 ],\n",
       "       [0.26441374],\n",
       "       [0.24696251],\n",
       "       [0.22528845],\n",
       "       [0.20858397],\n",
       "       [0.18581775],\n",
       "       [0.15191342],\n",
       "       [0.14264754],\n",
       "       [0.13645384],\n",
       "       [0.15079035],\n",
       "       [0.15594201],\n",
       "       [0.16369606],\n",
       "       [0.18748749],\n",
       "       [0.20318052],\n",
       "       [0.22329577],\n",
       "       [0.26773763],\n",
       "       [0.33505137],\n",
       "       [0.33093196],\n",
       "       [0.343535  ],\n",
       "       [0.35334989],\n",
       "       [0.33067938],\n",
       "       [0.35124048],\n",
       "       [0.34116648],\n",
       "       [0.30661879],\n",
       "       [0.26413253],\n",
       "       [0.27633449],\n",
       "       [0.28586523],\n",
       "       [0.25702064],\n",
       "       [0.24656672],\n",
       "       [0.22250228],\n",
       "       [0.21135665],\n",
       "       [0.19462111],\n",
       "       [0.17022032],\n",
       "       [0.15727716],\n",
       "       [0.15040067],\n",
       "       [0.15703147],\n",
       "       [0.16242455],\n",
       "       [0.18567925],\n",
       "       [0.19678638],\n",
       "       [0.17992587],\n",
       "       [0.17044285],\n",
       "       [0.17567652],\n",
       "       [0.18039582],\n",
       "       [0.18828608],\n",
       "       [0.20888995],\n",
       "       [0.1887496 ],\n",
       "       [0.17376432],\n",
       "       [0.17132871],\n",
       "       [0.14489278],\n",
       "       [0.13043973],\n",
       "       [0.11748369],\n",
       "       [0.11356349],\n",
       "       [0.12170623],\n",
       "       [0.12614854],\n",
       "       [0.1342461 ],\n",
       "       [0.13421329],\n",
       "       [0.13893863],\n",
       "       [0.13748143],\n",
       "       [0.13616047],\n",
       "       [0.13850731],\n",
       "       [0.1428041 ],\n",
       "       [0.16813291],\n",
       "       [0.16556896],\n",
       "       [0.17445756],\n",
       "       [0.16234342],\n",
       "       [0.1547979 ],\n",
       "       [0.1455479 ],\n",
       "       [0.13461504],\n",
       "       [0.12818689],\n",
       "       [0.12667678],\n",
       "       [0.12429729],\n",
       "       [0.12484178],\n",
       "       [0.13472498],\n",
       "       [0.13765123],\n",
       "       [0.14089371],\n",
       "       [0.15012543],\n",
       "       [0.16265907],\n",
       "       [0.16906777],\n",
       "       [0.18745508],\n",
       "       [0.1931043 ],\n",
       "       [0.22249463],\n",
       "       [0.23581392],\n",
       "       [0.25515867],\n",
       "       [0.25860353]])"
      ]
     },
     "execution_count": 33,
     "metadata": {},
     "output_type": "execute_result"
    }
   ],
   "source": [
    "test_mae_loss"
   ]
  },
  {
   "cell_type": "code",
   "execution_count": 39,
   "id": "e6a73b31",
   "metadata": {},
   "outputs": [],
   "source": [
    "THRESHOLD=0.4\n",
    "test_score_df = pd.DataFrame(index=test[time_step:].index)\n",
    "test_score_df['loss'] = test_mae_loss\n",
    "test_score_df['threshold'] = THRESHOLD\n",
    "test_score_df['anomaly'] = test_score_df.loss > test_score_df.threshold\n",
    "test_score_df['close'] = test[time_step:].close"
   ]
  },
  {
   "cell_type": "code",
   "execution_count": 40,
   "id": "668b95d9",
   "metadata": {},
   "outputs": [
    {
     "data": {
      "text/plain": [
       "<matplotlib.legend.Legend at 0x7f7f36826a10>"
      ]
     },
     "execution_count": 40,
     "metadata": {},
     "output_type": "execute_result"
    },
    {
     "data": {
      "image/png": "[encoded data removed]",
      "text/plain": [
       "<Figure size 640x480 with 1 Axes>"
      ]
     },
     "metadata": {},
     "output_type": "display_data"
    }
   ],
   "source": [
    "plt.plot(test_score_df.index,test_score_df.loss,label='loss')\n",
    "plt.plot(test_score_df.index,test_score_df.threshold,label='threshold')\n",
    "plt.xticks(rotation=25)\n",
    "plt.legend()"
   ]
  },
  {
   "cell_type": "code",
   "execution_count": 41,
   "id": "ad778cb3",
   "metadata": {},
   "outputs": [],
   "source": [
    "anomalies = test_score_df[test_score_df.anomaly == True]"
   ]
  },
  {
   "cell_type": "code",
   "execution_count": 42,
   "id": "68135d67",
   "metadata": {},
   "outputs": [
    {
     "data": {
      "text/html": [
       "<div>\n",
       "<style scoped>\n",
       "    .dataframe tbody tr th:only-of-type {\n",
       "        vertical-align: middle;\n",
       "    }\n",
       "\n",
       "    .dataframe tbody tr th {\n",
       "        vertical-align: top;\n",
       "    }\n",
       "\n",
       "    .dataframe thead th {\n",
       "        text-align: right;\n",
       "    }\n",
       "</style>\n",
       "<table border=\"1\" class=\"dataframe\">\n",
       "  <thead>\n",
       "    <tr style=\"text-align: right;\">\n",
       "      <th></th>\n",
       "      <th>loss</th>\n",
       "      <th>threshold</th>\n",
       "      <th>anomaly</th>\n",
       "      <th>close</th>\n",
       "    </tr>\n",
       "    <tr>\n",
       "      <th>date</th>\n",
       "      <th></th>\n",
       "      <th></th>\n",
       "      <th></th>\n",
       "      <th></th>\n",
       "    </tr>\n",
       "  </thead>\n",
       "  <tbody>\n",
       "    <tr>\n",
       "      <th>2018-02-09</th>\n",
       "      <td>0.424226</td>\n",
       "      <td>0.4</td>\n",
       "      <td>True</td>\n",
       "      <td>3.051476</td>\n",
       "    </tr>\n",
       "    <tr>\n",
       "      <th>2018-02-12</th>\n",
       "      <td>0.445839</td>\n",
       "      <td>0.4</td>\n",
       "      <td>True</td>\n",
       "      <td>3.119939</td>\n",
       "    </tr>\n",
       "    <tr>\n",
       "      <th>2018-02-13</th>\n",
       "      <td>0.417840</td>\n",
       "      <td>0.4</td>\n",
       "      <td>True</td>\n",
       "      <td>3.132975</td>\n",
       "    </tr>\n",
       "  </tbody>\n",
       "</table>\n",
       "</div>"
      ],
      "text/plain": [
       "                loss  threshold  anomaly     close\n",
       "date                                              \n",
       "2018-02-09  0.424226        0.4     True  3.051476\n",
       "2018-02-12  0.445839        0.4     True  3.119939\n",
       "2018-02-13  0.417840        0.4     True  3.132975"
      ]
     },
     "execution_count": 42,
     "metadata": {},
     "output_type": "execute_result"
    }
   ],
   "source": [
    "anomalies"
   ]
  },
  {
   "cell_type": "code",
   "execution_count": 43,
   "id": "8c8fa4fe",
   "metadata": {},
   "outputs": [
    {
     "ename": "ValueError",
     "evalue": "Expected 2D array, got 1D array instead:\narray=[2.39281599 2.35720362 2.35596395 2.33637339 2.37206089 2.39632839\n 2.39304138 2.40803013 2.39285355 2.39285355 2.40491217 2.39574612\n 2.40363494 2.39095648 2.39846964 2.38306767 2.39738023 2.38590388\n 2.41383405 2.44820674 2.44503243 2.44129464 2.41539303 2.4115801\n 2.41285734 2.41529911 2.44642237 2.43729388 2.43827059 2.44125707\n 2.46605049 2.48150881 2.50433002 2.52185446 2.5437741  2.53996117\n 2.54736163 2.57407091 2.56926249 2.57112199 2.57775235 2.58227903\n 2.57080268 2.63150899 2.60513781 2.60739176 2.59272232 2.57972456\n 2.56956301 2.57311298 2.58763216 2.58926627 2.57420239 2.6114113\n 2.60412354 2.59824449 2.58926627 2.53395065 2.54227147 2.53759453\n 2.53387552 2.5293864  2.56127976 2.56608818 2.57910472 2.56907466\n 2.56178689 2.56426624 2.55072377 2.5592512  2.55558854 2.55863137\n 2.55228275 2.53565989 2.50564483 2.54332331 2.53051338 2.52296265\n 2.55615203 2.54272226 2.5905435  2.61770357 2.61552475 2.61800409\n 2.60942031 2.61717765 2.62251199 2.61680199 2.61941281 2.6377637\n 2.63793274 2.63331215 2.63840232 2.62865399 2.62200485 2.64345491\n 2.64035574 2.55838719 2.57470953 2.60478094 2.62786511 2.63612959\n 2.64734297 2.6674031  2.66881182 2.663346   2.6612611  2.69555866\n 2.71248205 2.70690353 2.69418751 2.70134379 2.70256468 2.69877053\n 2.69430021 2.71488626 2.71032201 2.70006655 2.70136257 2.73951063\n 2.70865034 2.70598316 2.70389826 2.71103576 2.71248205 2.67549853\n 2.71552487 2.67609958 2.68306804 2.69358646 2.70021682 2.6574106\n 2.68639261 2.69061876 2.68705001 2.7203333  2.72893586 2.75042349\n 2.75017931 2.7529404  2.77777138 2.77705763 2.77534839 2.77040849\n 2.78396974 2.78528454 2.78075786 2.77452194 2.77114102 2.78250467\n 2.78479618 2.77463464 2.78340625 2.79106967 2.77981872 2.77812826\n 2.71086672 2.7167082  2.76276385 2.76045355 2.76702757 2.69546474\n 2.68708757 2.69238435 2.73772625 2.72181714 2.71229422 2.71995764\n 2.7221928  2.72606208 2.74726796 2.77367671 2.78288033 2.74775632\n 2.76220036 2.76137392 2.75448059 2.80459335 2.82031464 2.8238646\n 2.81869931 2.82735822 2.83419519 2.83941684 2.84240332 2.82805319\n 2.83109602 2.82065273 2.82099082 2.84014937 2.8458218  2.86328989\n 2.881622   2.89187746 2.89781285 2.92472874 2.91958222 2.91094209\n 2.92204278 2.93068291 2.92258749 2.92679486 2.93519081 2.93842147\n 2.94199022 2.94356798 2.96819235 2.94897745 2.95677235 2.93427045\n 2.94037489 2.97919913 2.96372202 2.96828627 2.97598725 2.97690761\n 2.99191515 2.99809472 2.99717436 3.00419916 2.98586705 2.98150942\n 2.98628028 2.97506689 2.94830127 2.98778291 2.97502933 2.9812089\n 3.0129332  3.00927054 3.0193006  3.01742231 3.06554409 3.06372215\n 3.10412415 3.09405652 3.08883487 3.07029616 3.06973267 3.08421428\n 3.11148704 3.12743372 3.13517227 3.13280563 3.11244497 3.15714826\n 3.18410171 3.16777937 3.16360957 3.17360207 3.17129178 3.16595743\n 3.16993941 3.17918059 3.15301602 3.19471404 3.22711453 3.24764424\n 3.28363226 3.29219726 3.29892153 3.29317397 3.3294813  3.36456774\n 3.34612294 3.39522143 3.38671278 3.40975939 3.4523402  3.46391047\n 3.46092399 3.46413586 3.52728395 3.49095783 3.43254303 3.43513507\n 3.4316978  3.31928219 3.10667862 3.19345559 3.16813625 2.97906765\n 3.0514757  3.11993935 3.13297467 3.20001082 3.2611867  3.26310256\n 3.23312506 3.2050822  3.2100221  3.29142716 3.3520959  3.28575473\n 3.22856082 3.16064187 3.18614904 3.24191545 3.25540157 3.25292223\n 3.27578101 3.36518758 3.35851965 3.32525515 3.29552183 3.29148351\n 3.3002739  3.22685157 3.2344023  3.22499207 3.0968176  2.99270403\n 3.12472898 3.03845916 3.02414659 3.09152083 2.98072054 3.04189642\n 3.09869589 3.13278684 3.0231511  3.03947343 3.12157346 3.09400017\n 3.13494688 3.12050283 3.16096118 3.21458634 3.21881249 3.18968023\n 3.14649836 3.1467801  3.07966882 3.08875974 3.14048783 3.14606635\n 3.10500695 3.1176854  3.08175372 3.07059669 3.13387625 3.1511753\n 3.14984171 3.19843306 3.24591621 3.25465025 3.25917693 3.22409049\n 3.24477045 3.24039404 3.22694549 3.2645864  3.24848947 3.26511233\n 3.25472539 3.24264799 3.18353822 3.2476818  3.21248266 3.26761045\n 3.29061949 3.29424459 3.33847831 3.33475929 3.35102528 3.3566038\n 3.3657135  3.3446391  3.35752416 3.3522086  3.34110791 3.3201462\n 3.32903051 3.29604775 3.30566459 3.23464647 3.24589743 3.20188911\n 3.23321897 3.23708825].\nReshape your data either using array.reshape(-1, 1) if your data has a single feature or array.reshape(1, -1) if it contains a single sample.",
     "output_type": "error",
     "traceback": [
      "\u001b[0;31m---------------------------------------------------------------------------\u001b[0m",
      "\u001b[0;31mValueError\u001b[0m                                Traceback (most recent call last)",
      "\u001b[0;32m/var/folders/rm/f_jlzk4d3xdcpt2qmsnwmzn00000gn/T/ipykernel_23443/1819412871.py\u001b[0m in \u001b[0;36m<module>\u001b[0;34m\u001b[0m\n\u001b[1;32m      1\u001b[0m plt.plot(\n\u001b[1;32m      2\u001b[0m   \u001b[0mtest\u001b[0m\u001b[0;34m[\u001b[0m\u001b[0mtime_step\u001b[0m\u001b[0;34m:\u001b[0m\u001b[0;34m]\u001b[0m\u001b[0;34m.\u001b[0m\u001b[0mindex\u001b[0m\u001b[0;34m,\u001b[0m\u001b[0;34m\u001b[0m\u001b[0;34m\u001b[0m\u001b[0m\n\u001b[0;32m----> 3\u001b[0;31m   \u001b[0mscaler\u001b[0m\u001b[0;34m.\u001b[0m\u001b[0minverse_transform\u001b[0m\u001b[0;34m(\u001b[0m\u001b[0mtest\u001b[0m\u001b[0;34m[\u001b[0m\u001b[0mtime_step\u001b[0m\u001b[0;34m:\u001b[0m\u001b[0;34m]\u001b[0m\u001b[0;34m.\u001b[0m\u001b[0mclose\u001b[0m\u001b[0;34m)\u001b[0m\u001b[0;34m,\u001b[0m\u001b[0;34m\u001b[0m\u001b[0;34m\u001b[0m\u001b[0m\n\u001b[0m\u001b[1;32m      4\u001b[0m   \u001b[0mlabel\u001b[0m\u001b[0;34m=\u001b[0m\u001b[0;34m'close price'\u001b[0m\u001b[0;34m\u001b[0m\u001b[0;34m\u001b[0m\u001b[0m\n\u001b[1;32m      5\u001b[0m );\n",
      "\u001b[0;32m~/opt/anaconda3/envs/tf1/lib/python3.7/site-packages/sklearn/preprocessing/_data.py\u001b[0m in \u001b[0;36minverse_transform\u001b[0;34m(self, X, copy)\u001b[0m\n\u001b[1;32m   1020\u001b[0m             \u001b[0mestimator\u001b[0m\u001b[0;34m=\u001b[0m\u001b[0mself\u001b[0m\u001b[0;34m,\u001b[0m\u001b[0;34m\u001b[0m\u001b[0;34m\u001b[0m\u001b[0m\n\u001b[1;32m   1021\u001b[0m             \u001b[0mdtype\u001b[0m\u001b[0;34m=\u001b[0m\u001b[0mFLOAT_DTYPES\u001b[0m\u001b[0;34m,\u001b[0m\u001b[0;34m\u001b[0m\u001b[0;34m\u001b[0m\u001b[0m\n\u001b[0;32m-> 1022\u001b[0;31m             \u001b[0mforce_all_finite\u001b[0m\u001b[0;34m=\u001b[0m\u001b[0;34m\"allow-nan\"\u001b[0m\u001b[0;34m,\u001b[0m\u001b[0;34m\u001b[0m\u001b[0;34m\u001b[0m\u001b[0m\n\u001b[0m\u001b[1;32m   1023\u001b[0m         )\n\u001b[1;32m   1024\u001b[0m \u001b[0;34m\u001b[0m\u001b[0m\n",
      "\u001b[0;32m~/opt/anaconda3/envs/tf1/lib/python3.7/site-packages/sklearn/utils/validation.py\u001b[0m in \u001b[0;36mcheck_array\u001b[0;34m(array, accept_sparse, accept_large_sparse, dtype, order, copy, force_all_finite, ensure_2d, allow_nd, ensure_min_samples, ensure_min_features, estimator)\u001b[0m\n\u001b[1;32m    771\u001b[0m                     \u001b[0;34m\"Reshape your data either using array.reshape(-1, 1) if \"\u001b[0m\u001b[0;34m\u001b[0m\u001b[0;34m\u001b[0m\u001b[0m\n\u001b[1;32m    772\u001b[0m                     \u001b[0;34m\"your data has a single feature or array.reshape(1, -1) \"\u001b[0m\u001b[0;34m\u001b[0m\u001b[0;34m\u001b[0m\u001b[0m\n\u001b[0;32m--> 773\u001b[0;31m                     \u001b[0;34m\"if it contains a single sample.\"\u001b[0m\u001b[0;34m.\u001b[0m\u001b[0mformat\u001b[0m\u001b[0;34m(\u001b[0m\u001b[0marray\u001b[0m\u001b[0;34m)\u001b[0m\u001b[0;34m\u001b[0m\u001b[0;34m\u001b[0m\u001b[0m\n\u001b[0m\u001b[1;32m    774\u001b[0m                 )\n\u001b[1;32m    775\u001b[0m \u001b[0;34m\u001b[0m\u001b[0m\n",
      "\u001b[0;31mValueError\u001b[0m: Expected 2D array, got 1D array instead:\narray=[2.39281599 2.35720362 2.35596395 2.33637339 2.37206089 2.39632839\n 2.39304138 2.40803013 2.39285355 2.39285355 2.40491217 2.39574612\n 2.40363494 2.39095648 2.39846964 2.38306767 2.39738023 2.38590388\n 2.41383405 2.44820674 2.44503243 2.44129464 2.41539303 2.4115801\n 2.41285734 2.41529911 2.44642237 2.43729388 2.43827059 2.44125707\n 2.46605049 2.48150881 2.50433002 2.52185446 2.5437741  2.53996117\n 2.54736163 2.57407091 2.56926249 2.57112199 2.57775235 2.58227903\n 2.57080268 2.63150899 2.60513781 2.60739176 2.59272232 2.57972456\n 2.56956301 2.57311298 2.58763216 2.58926627 2.57420239 2.6114113\n 2.60412354 2.59824449 2.58926627 2.53395065 2.54227147 2.53759453\n 2.53387552 2.5293864  2.56127976 2.56608818 2.57910472 2.56907466\n 2.56178689 2.56426624 2.55072377 2.5592512  2.55558854 2.55863137\n 2.55228275 2.53565989 2.50564483 2.54332331 2.53051338 2.52296265\n 2.55615203 2.54272226 2.5905435  2.61770357 2.61552475 2.61800409\n 2.60942031 2.61717765 2.62251199 2.61680199 2.61941281 2.6377637\n 2.63793274 2.63331215 2.63840232 2.62865399 2.62200485 2.64345491\n 2.64035574 2.55838719 2.57470953 2.60478094 2.62786511 2.63612959\n 2.64734297 2.6674031  2.66881182 2.663346   2.6612611  2.69555866\n 2.71248205 2.70690353 2.69418751 2.70134379 2.70256468 2.69877053\n 2.69430021 2.71488626 2.71032201 2.70006655 2.70136257 2.73951063\n 2.70865034 2.70598316 2.70389826 2.71103576 2.71248205 2.67549853\n 2.71552487 2.67609958 2.68306804 2.69358646 2.70021682 2.6574106\n 2.68639261 2.69061876 2.68705001 2.7203333  2.72893586 2.75042349\n 2.75017931 2.7529404  2.77777138 2.77705763 2.77534839 2.77040849\n 2.78396974 2.78528454 2.78075786 2.77452194 2.77114102 2.78250467\n 2.78479618 2.77463464 2.78340625 2.79106967 2.77981872 2.77812826\n 2.71086672 2.7167082  2.76276385 2.76045355 2.76702757 2.69546474\n 2.68708757 2.69238435 2.73772625 2.72181714 2.71229422 2.71995764\n 2.7221928  2.72606208 2.74726796 2.77367671 2.78288033 2.74775632\n 2.76220036 2.76137392 2.75448059 2.80459335 2.82031464 2.8238646\n 2.81869931 2.82735822 2.83419519 2.83941684 2.84240332 2.82805319\n 2.83109602 2.82065273 2.82099082 2.84014937 2.8458218  2.86328989\n 2.881622   2.89187746 2.89781285 2.92472874 2.91958222 2.91094209\n 2.92204278 2.93068291 2.92258749 2.92679486 2.93519081 2.93842147\n 2.94199022 2.94356798 2.96819235 2.94897745 2.95677235 2.93427045\n 2.94037489 2.97919913 2.96372202 2.96828627 2.97598725 2.97690761\n 2.99191515 2.99809472 2.99717436 3.00419916 2.98586705 2.98150942\n 2.98628028 2.97506689 2.94830127 2.98778291 2.97502933 2.9812089\n 3.0129332  3.00927054 3.0193006  3.01742231 3.06554409 3.06372215\n 3.10412415 3.09405652 3.08883487 3.07029616 3.06973267 3.08421428\n 3.11148704 3.12743372 3.13517227 3.13280563 3.11244497 3.15714826\n 3.18410171 3.16777937 3.16360957 3.17360207 3.17129178 3.16595743\n 3.16993941 3.17918059 3.15301602 3.19471404 3.22711453 3.24764424\n 3.28363226 3.29219726 3.29892153 3.29317397 3.3294813  3.36456774\n 3.34612294 3.39522143 3.38671278 3.40975939 3.4523402  3.46391047\n 3.46092399 3.46413586 3.52728395 3.49095783 3.43254303 3.43513507\n 3.4316978  3.31928219 3.10667862 3.19345559 3.16813625 2.97906765\n 3.0514757  3.11993935 3.13297467 3.20001082 3.2611867  3.26310256\n 3.23312506 3.2050822  3.2100221  3.29142716 3.3520959  3.28575473\n 3.22856082 3.16064187 3.18614904 3.24191545 3.25540157 3.25292223\n 3.27578101 3.36518758 3.35851965 3.32525515 3.29552183 3.29148351\n 3.3002739  3.22685157 3.2344023  3.22499207 3.0968176  2.99270403\n 3.12472898 3.03845916 3.02414659 3.09152083 2.98072054 3.04189642\n 3.09869589 3.13278684 3.0231511  3.03947343 3.12157346 3.09400017\n 3.13494688 3.12050283 3.16096118 3.21458634 3.21881249 3.18968023\n 3.14649836 3.1467801  3.07966882 3.08875974 3.14048783 3.14606635\n 3.10500695 3.1176854  3.08175372 3.07059669 3.13387625 3.1511753\n 3.14984171 3.19843306 3.24591621 3.25465025 3.25917693 3.22409049\n 3.24477045 3.24039404 3.22694549 3.2645864  3.24848947 3.26511233\n 3.25472539 3.24264799 3.18353822 3.2476818  3.21248266 3.26761045\n 3.29061949 3.29424459 3.33847831 3.33475929 3.35102528 3.3566038\n 3.3657135  3.3446391  3.35752416 3.3522086  3.34110791 3.3201462\n 3.32903051 3.29604775 3.30566459 3.23464647 3.24589743 3.20188911\n 3.23321897 3.23708825].\nReshape your data either using array.reshape(-1, 1) if your data has a single feature or array.reshape(1, -1) if it contains a single sample."
     ]
    }
   ],
   "source": [
    "plt.plot(\n",
    "  test[time_step:].index, \n",
    "  scaler.inverse_transform(test[time_step:].close), \n",
    "  label='close price'\n",
    ");\n",
    "\n",
    "sns.scatterplot(\n",
    "  anomalies.index,\n",
    "  scaler.inverse_transform(anomalies.close),\n",
    "  color=sns.color_palette()[3],\n",
    "  s=52,\n",
    "  label='anomaly'\n",
    ")\n",
    "plt.xticks(rotation=25)\n",
    "plt.legend();\n"
   ]
  },
  {
   "cell_type": "code",
   "execution_count": null,
   "id": "9029b0c1",
   "metadata": {},
   "outputs": [],
   "source": []
  },
  {
   "cell_type": "code",
   "execution_count": null,
   "id": "2a930d8c",
   "metadata": {},
   "outputs": [],
   "source": []
  }
 ],
 "metadata": {
  "kernelspec": {
   "display_name": "Python 3 (ipykernel)",
   "language": "python",
   "name": "python3"
  },
  "language_info": {
   "codemirror_mode": {
    "name": "ipython",
    "version": 3
   },
   "file_extension": ".py",
   "mimetype": "text/x-python",
   "name": "python",
   "nbconvert_exporter": "python",
   "pygments_lexer": "ipython3",
   "version": "3.7.13"
  }
 },
 "nbformat": 4,
 "nbformat_minor": 5
}
